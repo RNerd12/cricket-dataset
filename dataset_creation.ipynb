{
 "cells": [
  {
   "cell_type": "code",
   "execution_count": 1,
   "metadata": {},
   "outputs": [],
   "source": [
    "import openpyxl\n",
    "import pandas as pd"
   ]
  },
  {
   "cell_type": "code",
   "execution_count": 2,
   "metadata": {},
   "outputs": [],
   "source": [
    "wb = openpyxl.load_workbook('CricPredictor.xlsx')"
   ]
  },
  {
   "cell_type": "code",
   "execution_count": 7,
   "metadata": {},
   "outputs": [],
   "source": [
    "teams = [\n",
    "    'Delhi Capitals',\n",
    "    'Csk',\n",
    "    'Gujarat Titans',\n",
    "    'Kolkata Night Riders',\n",
    "    'Lucknow Super Giants',\n",
    "    'Mumbai Indians',\n",
    "    'Punjab Kings',\n",
    "    'Rajasthan Royals',\n",
    "    'RCB',\n",
    "    'Sunrisers Hyderabed'\n",
    "]"
   ]
  },
  {
   "cell_type": "code",
   "execution_count": 14,
   "metadata": {},
   "outputs": [],
   "source": [
    "df = pd.DataFrame(columns=['player_name','position','team_name'])"
   ]
  },
  {
   "cell_type": "code",
   "execution_count": null,
   "metadata": {},
   "outputs": [],
   "source": [
    "for team in teams:\n",
    "    sheet = wb[team]\n",
    "    for row in sheet.iter_rows(values_only=True):\n",
    "        df = df.append({'player_name':row[0],'position':row[1],'team_name':team},ignore_index=True)"
   ]
  },
  {
   "cell_type": "code",
   "execution_count": 21,
   "metadata": {},
   "outputs": [],
   "source": [
    "df.to_csv('players.csv')"
   ]
  }
 ],
 "metadata": {
  "kernelspec": {
   "display_name": "Python 3",
   "language": "python",
   "name": "python3"
  },
  "language_info": {
   "codemirror_mode": {
    "name": "ipython",
    "version": 3
   },
   "file_extension": ".py",
   "mimetype": "text/x-python",
   "name": "python",
   "nbconvert_exporter": "python",
   "pygments_lexer": "ipython3",
   "version": "3.10.6"
  }
 },
 "nbformat": 4,
 "nbformat_minor": 2
}
